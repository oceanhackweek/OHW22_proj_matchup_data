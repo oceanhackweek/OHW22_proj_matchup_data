{
 "cells": [
  {
   "cell_type": "code",
   "execution_count": null,
   "id": "8b2494e1-7984-46b2-bf76-12a2ef31cf65",
   "metadata": {},
   "outputs": [],
   "source": [
    "# Script to explore and download SST and Ocean color data from erddap Server"
   ]
  },
  {
   "cell_type": "code",
   "execution_count": null,
   "id": "e8af0978-2f44-4329-8570-0c745130d5b7",
   "metadata": {},
   "outputs": [],
   "source": [
    "# Script to explore and download SST and Ocean color data from Argo Floats"
   ]
  },
  {
   "cell_type": "code",
   "execution_count": null,
   "id": "e1d12ca9-0c2b-4315-bd1e-f7e2666c0b5a",
   "metadata": {},
   "outputs": [],
   "source": [
    "## Project goal"
   ]
  },
  {
   "cell_type": "code",
   "execution_count": null,
   "id": "d93fc8b5-c03d-4c22-98ef-b5936bf89f5e",
   "metadata": {},
   "outputs": [],
   "source": [
    "## Use of existing tools and packages to explore the datasets"
   ]
  },
  {
   "cell_type": "code",
   "execution_count": null,
   "id": "9d7c1df0-bb6e-48ff-9a74-cc6a4d800f7f",
   "metadata": {},
   "outputs": [],
   "source": [
    "## Hypothesis"
   ]
  },
  {
   "cell_type": "code",
   "execution_count": null,
   "id": "c0177886-7945-4a84-9fad-1759cc819152",
   "metadata": {},
   "outputs": [],
   "source": [
    "## Analysis"
   ]
  },
  {
   "cell_type": "code",
   "execution_count": null,
   "id": "238f03a2-19e4-4a6c-bfe2-1d638a5d7b48",
   "metadata": {},
   "outputs": [],
   "source": [
    "## Results"
   ]
  },
  {
   "cell_type": "code",
   "execution_count": null,
   "id": "c5441fb6-24c3-45c4-a355-ad4bd96f5a7b",
   "metadata": {},
   "outputs": [],
   "source": []
  },
  {
   "cell_type": "code",
   "execution_count": null,
   "id": "16d2e1b4-fa5b-4fff-8aed-11f8b088252e",
   "metadata": {},
   "outputs": [],
   "source": []
  }
 ],
 "metadata": {
  "kernelspec": {
   "display_name": "Python 3 (ipykernel)",
   "language": "python",
   "name": "python3"
  },
  "language_info": {
   "codemirror_mode": {
    "name": "ipython",
    "version": 3
   },
   "file_extension": ".py",
   "mimetype": "text/x-python",
   "name": "python",
   "nbconvert_exporter": "python",
   "pygments_lexer": "ipython3",
   "version": "3.9.13"
  }
 },
 "nbformat": 4,
 "nbformat_minor": 5
}
